{
 "cells": [
  {
   "cell_type": "code",
   "execution_count": null,
   "metadata": {},
   "outputs": [],
   "source": [
    "import numpy as np\n",
    "import pandas as pd"
   ]
  },
  {
   "cell_type": "code",
   "execution_count": null,
   "metadata": {},
   "outputs": [],
   "source": [
    "df=pd.read_csv('crimes_against_women_2001-2014.csv')\n"
   ]
  },
  {
   "cell_type": "code",
   "execution_count": null,
   "metadata": {},
   "outputs": [],
   "source": [
    "n=len(df.index)\n",
    "list_max_IOG=list()\n",
    "list_max_r=list()\n",
    "for i in df.index:\n",
    "    if(df[\"Importation of Girls\"][i]==df[\"Importation of Girls\"].max()):\n",
    "        list_max_IOG.append(i)\n",
    "    if(df[\"Rape\"][i]==df[\"Rape\"].max()):\n",
    "        list_max_r.append(i)\n",
    "list_max_IOG_states=list()\n",
    "list_max_r_states=list()\n",
    "for i in list_max_IOG:\n",
    "    list_max_IOG_states.append(df[\"STATE/UT\"][i])\n",
    "for i in list_max_r:\n",
    "    list_max_r_states.append(df[\"STATE/UT\"][i])\n",
    "print(\"State that has featured in Maximum number of importation cases are:\",list_max_IOG_states)\n",
    "print(\"State that has featured in Maximum number of rape cases are:\",list_max_r_states)"
   ]
  },
  {
   "cell_type": "code",
   "execution_count": null,
   "metadata": {},
   "outputs": [],
   "source": [
    "common_state = set(list_max_IOG_states).intersection(list_max_r_states)\n",
    "if(len(common_state)==0):\n",
    "    print(\"No common State\")\n",
    "else:\n",
    "    print(common_state)"
   ]
  }
 ],
 "metadata": {
  "language_info": {
   "name": "python"
  },
  "orig_nbformat": 4
 },
 "nbformat": 4,
 "nbformat_minor": 2
}
