{
 "cells": [
  {
   "cell_type": "code",
   "execution_count": 1,
   "id": "7b94d477",
   "metadata": {},
   "outputs": [],
   "source": [
    "import numpy as np"
   ]
  },
  {
   "cell_type": "code",
   "execution_count": 2,
   "id": "2f23c6ee",
   "metadata": {},
   "outputs": [
    {
     "name": "stdout",
     "output_type": "stream",
     "text": [
      "1 2 5 4 9 3 6 8 7\n"
     ]
    }
   ],
   "source": [
    "input_list=list(map(int,input().split()))\n",
    "numpy_array=np.array(input_list)"
   ]
  },
  {
   "cell_type": "code",
   "execution_count": 3,
   "id": "a89bdac9",
   "metadata": {},
   "outputs": [
    {
     "name": "stdout",
     "output_type": "stream",
     "text": [
      "[1 2 3 4 5 7 6 8 9]\n"
     ]
    }
   ],
   "source": [
    "location=list()\n",
    "odd_number=list()\n",
    "j=-1\n",
    "for i in numpy_array:\n",
    "    j=j+1\n",
    "    if(i%2!=0):\n",
    "        location.append(j)\n",
    "        odd_number.append(i)\n",
    "odd_number.sort()\n",
    "j=0\n",
    "for i in location:\n",
    "    numpy_array[i]=odd_number[j]\n",
    "    j=j+1\n",
    "print(numpy_array)"
   ]
  },
  {
   "cell_type": "code",
   "execution_count": null,
   "id": "4db94db3",
   "metadata": {},
   "outputs": [],
   "source": []
  }
 ],
 "metadata": {
  "kernelspec": {
   "display_name": "Python 3 (ipykernel)",
   "language": "python",
   "name": "python3"
  },
  "language_info": {
   "codemirror_mode": {
    "name": "ipython",
    "version": 3
   },
   "file_extension": ".py",
   "mimetype": "text/x-python",
   "name": "python",
   "nbconvert_exporter": "python",
   "pygments_lexer": "ipython3",
   "version": "3.11.0"
  }
 },
 "nbformat": 4,
 "nbformat_minor": 5
}
