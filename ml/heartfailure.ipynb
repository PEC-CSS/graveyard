{
 "cells": [
  {
   "cell_type": "code",
   "execution_count": 5,
   "metadata": {},
   "outputs": [],
   "source": [
    "import pandas as pd"
   ]
  },
  {
   "cell_type": "code",
   "execution_count": 6,
   "metadata": {},
   "outputs": [],
   "source": [
    "data = pd.read_csv(\"heart_failure_clinical_records_dataset.csv\")"
   ]
  },
  {
   "cell_type": "code",
   "execution_count": 7,
   "metadata": {},
   "outputs": [
    {
     "name": "stdout",
     "output_type": "stream",
     "text": [
      "85\n",
      "96\n",
      "96\n"
     ]
    }
   ],
   "source": [
    "abnormal_sodium = data[(data['serum_sodium'] < 135) | (data['serum_sodium'] > 145)]\n",
    "num_abnormal_sodium = len(abnormal_sodium)\n",
    "\n",
    "smoking_habit = data[data['smoking'] == 1]\n",
    "num_smoking_habit = len(smoking_habit)\n",
    "\n",
    "deaths = data[data['DEATH_EVENT']==1]\n",
    "num_deaths = len(deaths)\n",
    "\n",
    "print(num_abnormal_sodium)\n",
    "print(num_smoking_habit)\n",
    "print(num_deaths)"
   ]
  }
 ],
 "metadata": {
  "language_info": {
   "name": "python"
  },
  "orig_nbformat": 4
 },
 "nbformat": 4,
 "nbformat_minor": 2
}
