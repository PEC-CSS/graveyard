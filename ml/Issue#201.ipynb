{
 "cells": [
  {
   "cell_type": "code",
   "execution_count": 1,
   "metadata": {},
   "outputs": [
    {
     "name": "stdout",
     "output_type": "stream",
     "text": [
      "[1. 2. 3. 4. 5.]\n",
      "[4. 5. 6. 7. 8.]\n",
      "output: 6.708203932499369\n"
     ]
    }
   ],
   "source": [
    "import numpy as np\n",
    "import math\n",
    "n1=int(input('Enter no. of elements in array 1-'))\n",
    "n2=int(input('Enter no. of elements in array 2-'))\n",
    "arr1=np.zeros(n1)\n",
    "arr2=np.zeros(n2)\n",
    "for i1 in range(0,n1):\n",
    "    arr1[i1]=int(input(f'Enter the element {i1+1} of array 1'))\n",
    "print(arr1)\n",
    "for i2 in range(0,n2):\n",
    "    arr2[i2]=int(input(f'Enter the element {i2+1} of array 2'))\n",
    "print(arr2)\n",
    "if (n1==n2):\n",
    "    a=0\n",
    "    b=0\n",
    "    o=0\n",
    "    for i in range (0,n1):\n",
    "        b=(arr1[i]-arr2[i])**2\n",
    "        a+=b\n",
    "    o=math.sqrt(a)\n",
    "    print('output:',o)\n",
    "else:\n",
    "    print('''Error\n",
    "    array's size not same''')\n",
    "        "
   ]
  }
 ],
 "metadata": {
  "kernelspec": {
   "display_name": "Python 3",
   "language": "python",
   "name": "python3"
  },
  "language_info": {
   "codemirror_mode": {
    "name": "ipython",
    "version": 3
   },
   "file_extension": ".py",
   "mimetype": "text/x-python",
   "name": "python",
   "nbconvert_exporter": "python",
   "pygments_lexer": "ipython3",
   "version": "3.11.0"
  },
  "orig_nbformat": 4
 },
 "nbformat": 4,
 "nbformat_minor": 2
}
